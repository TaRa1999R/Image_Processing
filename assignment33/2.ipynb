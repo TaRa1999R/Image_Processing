{
 "cells": [
  {
   "cell_type": "code",
   "execution_count": 5,
   "metadata": {},
   "outputs": [],
   "source": [
    "import cv2\n",
    "import numpy as np\n",
    "import matplotlib.pyplot as plt"
   ]
  },
  {
   "cell_type": "code",
   "execution_count": 12,
   "metadata": {},
   "outputs": [
    {
     "data": {
      "image/png": "[encoded data removed]",
      "text/plain": [
       "<Figure size 640x480 with 1 Axes>"
      ]
     },
     "metadata": {},
     "output_type": "display_data"
    }
   ],
   "source": [
    "img_one = cv2.imread (\"inputs\\input_2_1D.png\")\n",
    "one_gray = cv2.cvtColor (img_one , cv2.COLOR_BGR2GRAY)\n",
    "\n",
    "_ , one_thresh = cv2.threshold (one_gray , 120 , 255 , cv2.THRESH_BINARY)\n",
    "\n",
    "plt.axis (\"off\")\n",
    "plt.imshow (one_thresh , cmap = \"gray\")\n",
    "plt.show ()"
   ]
  },
  {
   "cell_type": "code",
   "execution_count": 12,
   "metadata": {},
   "outputs": [
    {
     "name": "stdout",
     "output_type": "stream",
     "text": [
      "16\n",
      "16\n",
      "[[12 -1  1 -1]\n",
      " [ 3 -1  2  0]\n",
      " [-1 -1 -1  1]\n",
      " [ 5  1  4  0]\n",
      " [-1 -1 -1  3]\n",
      " [ 7  3  6  0]\n",
      " [-1 -1 -1  5]\n",
      " [ 9  5  8  0]\n",
      " [-1 -1 -1  7]\n",
      " [11  7 10  0]\n",
      " [-1 -1 -1  9]\n",
      " [-1  9 -1  0]\n",
      " [-1  0 13 -1]\n",
      " [14 -1 -1 12]\n",
      " [-1 13 15 12]\n",
      " [-1 -1 -1 14]]\n"
     ]
    }
   ],
   "source": [
    "img_two = cv2.imread (\"inputs\\input_2_2D.png\")\n",
    "two_gray = cv2.cvtColor (img_two , cv2.COLOR_BGR2GRAY)\n",
    "\n",
    "_ , two_thresh = cv2.threshold (two_gray , 120 , 255 , cv2.THRESH_BINARY)\n",
    "contours , hierarchy = cv2.findContours (two_thresh , cv2.RETR_TREE , cv2.CHAIN_APPROX_SIMPLE)\n",
    "print (len (contours))\n",
    "print (len (hierarchy[0]))\n",
    "# for contour in contours :\n",
    "    # if \n",
    "    # x , y , w , h = cv2.boundingRect (contour)\n",
    "    # cv2.rectangle (img_two , (x , y) , (x + w , y + h) , (255 , 0 , 0) , 3)\n",
    "\n",
    "# plt.axis (\"off\")\n",
    "print (hierarchy[0])\n",
    "# plt.imshow (img_two , cmap = \"gray\")\n",
    "# plt.show ()"
   ]
  },
  {
   "cell_type": "code",
   "execution_count": null,
   "metadata": {},
   "outputs": [],
   "source": [
    "img_three = cv2.imread (\"inputs\\input_2_3D.png\")\n",
    "three_gray = cv2.cvtColor (img_three , cv2.COLOR_BGR2GRAY)\n",
    "\n",
    "_ , three_thresh = cv2.threshold (three_gray , 120 , 255 , cv2.THRESH_BINARY)\n",
    "\n",
    "plt.axis (\"off\")\n",
    "plt.imshow (three_thresh , cmap = \"gray\")\n",
    "plt.show ()"
   ]
  },
  {
   "cell_type": "code",
   "execution_count": null,
   "metadata": {},
   "outputs": [],
   "source": [
    "img_five = cv2.imread (\"inputs\\input_2_5D.png\")\n",
    "five_gray = cv2.cvtColor (img_five , cv2.COLOR_BGR2GRAY)\n",
    "\n",
    "_ , five_thresh = cv2.threshold (five_gray , 120 , 255 , cv2.THRESH_BINARY)\n",
    "\n",
    "plt.axis (\"off\")\n",
    "plt.imshow (five_thresh , cmap = \"gray\")\n",
    "plt.show ()"
   ]
  }
 ],
 "metadata": {
  "kernelspec": {
   "display_name": "Python 3",
   "language": "python",
   "name": "python3"
  },
  "language_info": {
   "codemirror_mode": {
    "name": "ipython",
    "version": 3
   },
   "file_extension": ".py",
   "mimetype": "text/x-python",
   "name": "python",
   "nbconvert_exporter": "python",
   "pygments_lexer": "ipython3",
   "version": "3.10.8"
  }
 },
 "nbformat": 4,
 "nbformat_minor": 2
}
